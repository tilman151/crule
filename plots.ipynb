{
 "cells": [
  {
   "cell_type": "code",
   "execution_count": 83,
   "id": "initial_id",
   "metadata": {
    "hideCode": true,
    "hidePrompt": true,
    "slideshow": {
     "slide_type": "skip"
    },
    "ExecuteTime": {
     "end_time": "2023-11-30T10:36:25.287730173Z",
     "start_time": "2023-11-30T10:36:25.281554129Z"
    }
   },
   "source": [
    "import importlib\n",
    "\n",
    "import matplotlib\n",
    "import matplotlib.pyplot as plt\n",
    "import numpy as np\n",
    "import pandas as pd\n",
    "from matplotlib.patches import Circle, RegularPolygon\n",
    "from matplotlib.path import Path\n",
    "from matplotlib.projections import register_projection\n",
    "from matplotlib.projections.polar import PolarAxes\n",
    "from matplotlib.spines import Spine\n",
    "from matplotlib.transforms import Affine2D\n",
    "\n",
    "from crule import evaluation\n",
    "from crule.evaluation import friedman_nemenyi, plot_critical_difference\n",
    "\n",
    "evaluation = importlib.reload(evaluation)"
   ],
   "outputs": []
  },
  {
   "cell_type": "code",
   "execution_count": 84,
   "id": "2d63f599",
   "metadata": {
    "hideCode": true,
    "hidePrompt": true,
    "ExecuteTime": {
     "end_time": "2023-11-30T10:36:25.299515449Z",
     "start_time": "2023-11-30T10:36:25.290202862Z"
    }
   },
   "source": [
    "def rul_score(dist):\n",
    "    factors = np.ones_like(dist)\n",
    "    factors[dist >= 0] /= 10.0\n",
    "    factors[dist < 0] /= -13.0\n",
    "    dist = np.exp(dist * factors) - 1.0\n",
    "    score = dist\n",
    "\n",
    "    return score"
   ],
   "outputs": []
  },
  {
   "cell_type": "markdown",
   "id": "2c6b00f4",
   "metadata": {
    "hideCode": true,
    "hidePrompt": true,
    "slideshow": {
     "slide_type": "slide"
    }
   },
   "source": [
    "# Unsupervised Domain Adaptation for RUL Estimation\n",
    "## A Benchmark"
   ]
  },
  {
   "cell_type": "code",
   "execution_count": 85,
   "id": "3698b791-8f6b-4f50-9b63-beb8fb7a3ed8",
   "metadata": {
    "hideCode": true,
    "hidePrompt": true,
    "slideshow": {
     "slide_type": "skip"
    },
    "ExecuteTime": {
     "end_time": "2023-11-30T10:36:25.322614720Z",
     "start_time": "2023-11-30T10:36:25.306919022Z"
    }
   },
   "source": [
    "def radar_factory(num_vars, frame='circle', tname=\"radar\"):\n",
    "    # calculate evenly-spaced axis angles\n",
    "    theta = np.linspace(0, 2*np.pi, num_vars, endpoint=False)\n",
    "\n",
    "    class RadarTransform(PolarAxes.PolarTransform):\n",
    "\n",
    "        def transform_path_non_affine(self, path):\n",
    "            # Paths with non-unit interpolation steps correspond to gridlines,\n",
    "            # in which case we force interpolation (to defeat PolarTransform's\n",
    "            # autoconversion to circular arcs).\n",
    "            if path._interpolation_steps > 1:\n",
    "                path = path.interpolated(num_vars)\n",
    "            return Path(self.transform(path.vertices), path.codes)\n",
    "\n",
    "    class RadarAxes(PolarAxes):\n",
    "\n",
    "        name = tname\n",
    "        PolarTransform = RadarTransform\n",
    "\n",
    "        def __init__(self, *args, **kwargs):\n",
    "            super().__init__(*args, **kwargs)\n",
    "            # rotate plot such that the first axis is at the top\n",
    "            self.set_theta_zero_location('N')\n",
    "\n",
    "        def fill(self, *args, closed=True, **kwargs):\n",
    "            \"\"\"Override fill so that line is closed by default\"\"\"\n",
    "            return super().fill(closed=closed, *args, **kwargs)\n",
    "\n",
    "        def plot(self, *args, **kwargs):\n",
    "            \"\"\"Override plot so that line is closed by default\"\"\"\n",
    "            lines = super().plot(*args, **kwargs)\n",
    "            for line in lines:\n",
    "                self._close_line(line)\n",
    "\n",
    "        def _close_line(self, line):\n",
    "            x, y = line.get_data()\n",
    "            # FIXME: markers at x[0], y[0] get doubled-up\n",
    "            if x[0] != x[-1]:\n",
    "                x = np.append(x, x[0])\n",
    "                y = np.append(y, y[0])\n",
    "                line.set_data(x, y)\n",
    "\n",
    "        def set_varlabels(self, labels):\n",
    "            self.set_thetagrids(np.degrees(theta), labels)\n",
    "\n",
    "        def _gen_axes_patch(self):\n",
    "            # The Axes patch must be centered at (0.5, 0.5) and of radius 0.5\n",
    "            # in axes coordinates.\n",
    "            if frame == 'circle':\n",
    "                return Circle((0.5, 0.5), 0.5)\n",
    "            elif frame == 'polygon':\n",
    "                return RegularPolygon((0.5, 0.5), num_vars,\n",
    "                                      radius=.5, edgecolor=\"k\")\n",
    "            else:\n",
    "                raise ValueError(\"Unknown value for 'frame': %s\" % frame)\n",
    "\n",
    "        def _gen_axes_spines(self):\n",
    "            if frame == 'circle':\n",
    "                return super()._gen_axes_spines()\n",
    "            elif frame == 'polygon':\n",
    "                # spine_type must be 'left'/'right'/'top'/'bottom'/'circle'.\n",
    "                spine = Spine(axes=self,\n",
    "                              spine_type='circle',\n",
    "                              path=Path.unit_regular_polygon(num_vars))\n",
    "                # unit_regular_polygon gives a polygon of radius 1 centered at\n",
    "                # (0, 0) but we want a polygon of radius 0.5 centered at (0.5,\n",
    "                # 0.5) in axes coordinates.\n",
    "                spine.set_transform(Affine2D().scale(.5).translate(.5, .5)\n",
    "                                    + self.transAxes)\n",
    "                return {'polar': spine}\n",
    "            else:\n",
    "                raise ValueError(\"Unknown value for 'frame': %s\" % frame)\n",
    "\n",
    "    register_projection(RadarAxes)\n",
    "    return theta"
   ],
   "outputs": []
  },
  {
   "cell_type": "code",
   "execution_count": 86,
   "source": [
    "approach_names = {\n",
    "    \"AdaRulApproach\": \"AdaRUL\",\n",
    "    \"ConditionalDannApproach\": \"Conditional DANN\",\n",
    "    \"ConditionalMmdApproach\": \"Conditional MMD\",\n",
    "    \"ConsistencyApproach\": \"Consistency\",\n",
    "    \"DannApproach\": \"DANN\",\n",
    "    \"LatentAlignApproach\": \"Latent Alignment\",\n",
    "    \"MmdApproach\": \"MMD\",\n",
    "    \"NoAdaptionApproach\": \"No Adaptation\",\n",
    "    \"PseudoLabelsApproach\": \"Pseudo Labels\",\n",
    "}\n",
    "dataset_names = {\n",
    "    \"cmapss\": \"C-MAPSS\",\n",
    "    \"femto\": \"FEMTO\",\n",
    "    \"xjtu-sy\": \"XJTU-SY\",\n",
    "}"
   ],
   "metadata": {
    "collapsed": false,
    "ExecuteTime": {
     "end_time": "2023-11-30T10:36:25.324028011Z",
     "start_time": "2023-11-30T10:36:25.312908958Z"
    }
   },
   "id": "9c841f953bb46d5b",
   "outputs": []
  },
  {
   "cell_type": "code",
   "execution_count": 87,
   "id": "925d50f8-ebf0-4d22-81a9-a2580a151045",
   "metadata": {
    "hideCode": true,
    "hidePrompt": true,
    "slideshow": {
     "slide_type": "skip"
    },
    "ExecuteTime": {
     "end_time": "2023-11-30T10:36:25.370470231Z",
     "start_time": "2023-11-30T10:36:25.320899529Z"
    }
   },
   "source": [
    "rmse = pd.read_csv(\"results/rmse.csv\", header=[0, 1, 2, 3], index_col=[0, 1, 2])\n",
    "rounded = rmse.copy()\n",
    "rounded.loc[:, (slice(None), \"cmapss\")] = rounded.loc[:, (slice(None), \"cmapss\")].round(1)\n",
    "score = pd.read_csv(\"results/score.csv\", header=[0, 1, 2, 3], index_col=[0, 1, 2])\n",
    "score_adjusted = score.copy()\n",
    "score_adjusted.loc[:, (slice(None), \"femto\")] = 1 - score_adjusted.loc[:, (slice(None), \"femto\")]\n",
    "score_adjusted.loc[:, (slice(None), \"xjtu-sy\")] = 1 - score_adjusted.loc[:, (slice(None), \"xjtu-sy\")]"
   ],
   "outputs": []
  },
  {
   "cell_type": "markdown",
   "id": "efa1eef8",
   "metadata": {
    "hideCode": true,
    "hidePrompt": true,
    "slideshow": {
     "slide_type": "slide"
    }
   },
   "source": [
    "# CNN vs. LSTM\n",
    "Findings:\n",
    "* CNN and LSTM perform equally on average\n",
    "* Some approaches perform better on CNN, some on LSTM\n",
    "* Overall differences are minimal while standard deviations are high"
   ]
  },
  {
   "cell_type": "code",
   "execution_count": 119,
   "id": "1e77918a",
   "metadata": {
    "hideCode": true,
    "hidePrompt": true,
    "ExecuteTime": {
     "end_time": "2023-11-30T10:39:11.731561877Z",
     "start_time": "2023-11-30T10:39:11.463322537Z"
    }
   },
   "source": [
    "backbones = rounded.loc[(\"transductive\",), (slice(None), \"cmapss\")]\n",
    "\n",
    "def grouped_bar(performance, axis = None):\n",
    "    x = np.arange(8)\n",
    "    width = 1 / 3\n",
    "    multiplier = 0\n",
    "    if axis is None:\n",
    "        fig, axis = plt.subplots(figsize=(9, 4))\n",
    "    colors = {\"cnn\": \"tab:blue\", \"lstm\": \"tab:green\"}\n",
    "    for label, data in performance.groupby(level=\"backbone\"):\n",
    "        offset = width * multiplier\n",
    "        rects = axis.bar(x + offset, data[\"mean\"], width, label=label.upper(), color=colors[label])\n",
    "        axis.errorbar(x + offset, data[\"mean\"], data[\"std\"], fmt=\"none\", color=\"black\", capsize=3)\n",
    "        # axis.bar_label(rects, padding=3, fmt=\"%.1f\")\n",
    "        multiplier += 1\n",
    "    approaches = performance.index.get_level_values(\"approach\").map(approach_names.get)[:8]\n",
    "    axis.set_ylabel(\"RMSE\")\n",
    "    axis.set_xticks(x + width / 2, approaches, rotation=20, ha=\"right\")\n",
    "    axis.legend()\n",
    "    \n",
    "    return fig, axis"
   ],
   "outputs": []
  },
  {
   "cell_type": "code",
   "execution_count": 120,
   "id": "5cc6e114",
   "metadata": {
    "hideCode": true,
    "hidePrompt": true,
    "slideshow": {
     "slide_type": "fragment"
    },
    "ExecuteTime": {
     "end_time": "2023-11-30T10:39:12.392859027Z",
     "start_time": "2023-11-30T10:39:12.018814145Z"
    }
   },
   "source": [
    "plt.rc('font', **{'size': 12})\n",
    "avg_backbones = backbones.drop(\"NoAdaptionApproach\", level=\"approach\").agg([\"mean\", \"std\"], axis=1)\n",
    "fig, axis = grouped_bar(avg_backbones)\n",
    "fig.tight_layout()\n",
    "fig.savefig(\"plots/backbones.pdf\", bbox_inches=\"tight\")\n",
    "plt.rcdefaults()"
   ],
   "outputs": []
  },
  {
   "cell_type": "code",
   "execution_count": 90,
   "id": "1181649a",
   "metadata": {
    "hideCode": true,
    "hidePrompt": true,
    "slideshow": {
     "slide_type": "fragment"
    },
    "ExecuteTime": {
     "end_time": "2023-11-30T10:36:25.965071429Z",
     "start_time": "2023-11-30T10:36:25.733993712Z"
    }
   },
   "source": [
    "ranked_backbones = backbones.drop(\"NoAdaptionApproach\", level=\"approach\")\n",
    "for backbone, group in ranked_backbones.groupby(level=\"backbone\"):\n",
    "    ranked_backbones.loc[backbone] = group.rank()\n",
    "ranked_backbones = ranked_backbones.agg([\"mean\", \"std\"], axis=1)\n",
    "_, axis = grouped_bar(ranked_backbones)\n",
    "_ = axis.set_title(\"Avg Rank\")"
   ],
   "outputs": []
  },
  {
   "cell_type": "markdown",
   "id": "aa40299c",
   "metadata": {
    "hideCode": true,
    "hidePrompt": true,
    "slideshow": {
     "slide_type": "slide"
    }
   },
   "source": [
    "# Transductive vs. Inductive\n",
    "Findings:\n",
    "* Even less difference than between CNN and LSTM\n",
    "* Score shows a bigger difference, but this is probably because it is an exponential measure\n",
    "* log(Score) shows similar differences as RMSE\n",
    "* Data scenario may partially explain lack of difference:\n",
    "    * Train set has 80% scenario\n",
    "    * Test set equivalent to 60% scenario\n",
    "    * Repetition with 60% training scenario still shows little difference "
   ]
  },
  {
   "cell_type": "code",
   "execution_count": 91,
   "id": "aa60ed04",
   "metadata": {
    "hideCode": true,
    "hidePrompt": true,
    "slideshow": {
     "slide_type": "skip"
    },
    "ExecuteTime": {
     "end_time": "2023-11-30T10:36:25.978946889Z",
     "start_time": "2023-11-30T10:36:25.969221064Z"
    }
   },
   "source": [
    "def avg_bar_adaption_mode(performance, axis = None, agg = \"mean\", plot=\"bar\", color=\"tab:blue\", order = None):\n",
    "    vs_transductive = performance.drop([\"complete\"], level=\"adaption_mode\").loc[(slice(None), \"cnn\"), (slice(None), \"cmapss\")]\n",
    "    vs_transductive = vs_transductive.drop(\"NoAdaptionApproach\", level=\"approach\")\n",
    "    \n",
    "    if agg == \"mean\":\n",
    "        avg_vs_transductive = vs_transductive.groupby(level=\"adaption_mode\").mean().mean(axis=1)\n",
    "    else:\n",
    "        avg_vs_transductive = vs_transductive.groupby(level=\"approach\").rank().groupby(level=\"adaption_mode\").mean().mean(axis=1)\n",
    "    \n",
    "    if order is not None:\n",
    "        avg_vs_transductive = avg_vs_transductive.loc[order]\n",
    "    \n",
    "    if axis is None:\n",
    "        fig, axis = plt.subplots(figsize=(16, 2))\n",
    "    \n",
    "    if plot == \"bar\":\n",
    "        rects = axis.bar(avg_vs_transductive.index, avg_vs_transductive)\n",
    "        axis.bar_label(rects, padding=3)\n",
    "    else:\n",
    "        axis.plot(avg_vs_transductive.index, avg_vs_transductive, marker=\"o\", color=color)\n",
    "    \n",
    "    return axis"
   ],
   "outputs": []
  },
  {
   "cell_type": "code",
   "execution_count": 92,
   "id": "19231103",
   "metadata": {
    "hideCode": true,
    "hidePrompt": true,
    "slideshow": {
     "slide_type": "fragment"
    },
    "ExecuteTime": {
     "end_time": "2023-11-30T10:36:26.536086821Z",
     "start_time": "2023-11-30T10:36:25.974418710Z"
    }
   },
   "source": [
    "_, (rmse_axis, score_axis, log_score_axis) = plt.subplots(figsize=(16, 9), ncols=1, nrows=3, sharex=\"all\")\n",
    "order = [\"inductive\", \"transductive\", \"60percent\"]\n",
    "axis = avg_bar_adaption_mode(rounded, rmse_axis, order=order)\n",
    "axis.set_ylim(0, 43)\n",
    "_ = axis.set_title(\"Avg RMSE\")\n",
    "\n",
    "axis = avg_bar_adaption_mode(score, score_axis, order=order)\n",
    "axis.set_yscale(\"log\")\n",
    "axis.set_ylim(0.1, 1e22)\n",
    "_  = axis.set_title(\"Avg Score\")\n",
    "\n",
    "axis = avg_bar_adaption_mode(np.log(score), log_score_axis, order=order)\n",
    "axis.set_ylim(0, 14)\n",
    "_  = axis.set_title(\"Avg Log Score\")"
   ],
   "outputs": []
  },
  {
   "cell_type": "code",
   "execution_count": 93,
   "id": "99873e1c",
   "metadata": {
    "hideCode": true,
    "hidePrompt": true,
    "slideshow": {
     "slide_type": "subslide"
    },
    "ExecuteTime": {
     "end_time": "2023-11-30T10:36:26.805790679Z",
     "start_time": "2023-11-30T10:36:26.509399572Z"
    }
   },
   "source": [
    "_, (rmse_axis, score_axis) = plt.subplots(figsize=(16, 9), ncols=1, nrows=2, sharex=\"all\")\n",
    "axis = avg_bar_adaption_mode(rounded, rmse_axis, agg=\"rank\", order=order)\n",
    "axis.set_ylim(0, 2.5)\n",
    "_ = axis.set_title(\"RMSE Rank\")\n",
    "\n",
    "axis = avg_bar_adaption_mode(score, score_axis, agg=\"rank\", order=order)\n",
    "axis.set_ylim(0, 2.5)\n",
    "_  = axis.set_title(\"Score Rank\")"
   ],
   "outputs": []
  },
  {
   "cell_type": "code",
   "execution_count": 94,
   "id": "12591ff8",
   "metadata": {
    "hideCode": true,
    "hidePrompt": true,
    "slideshow": {
     "slide_type": "subslide"
    },
    "ExecuteTime": {
     "end_time": "2023-11-30T10:36:27.309788067Z",
     "start_time": "2023-11-30T10:36:26.836848743Z"
    }
   },
   "source": [
    "_, (axis, rank_axis) = plt.subplots(figsize=(16, 9), nrows=2, sharex=\"all\")\n",
    "\n",
    "avg_bar_adaption_mode(rounded, axis, plot=\"line\", order=order)\n",
    "axis.set_ylabel(\"RMSE\", color=\"tab:blue\")\n",
    "twin_axis = axis.twinx()\n",
    "avg_bar_adaption_mode(np.log(score), twin_axis, plot=\"line\", color=\"tab:orange\", order=order)\n",
    "twin_axis.set_ylabel(\"Score\", color=\"tab:orange\")\n",
    "_ = twin_axis.set_ylim(10, 12)\n",
    "\n",
    "avg_bar_adaption_mode(rounded, rank_axis, agg=\"rank\", plot=\"line\", order=order)\n",
    "rank_axis.set_ylabel(\"RMSE Rank\", color=\"tab:blue\")\n",
    "rank_axis.set_ylim(1.7, 2.3)\n",
    "twin_axis = rank_axis.twinx()\n",
    "avg_bar_adaption_mode(np.log(score), twin_axis, agg=\"rank\", plot=\"line\", color=\"tab:orange\", order=order)\n",
    "twin_axis.set_ylabel(\"Score Rank\", color=\"tab:orange\")\n",
    "twin_axis.set_ylim(1.7, 2.3)"
   ],
   "outputs": []
  },
  {
   "cell_type": "markdown",
   "id": "dc552e54",
   "metadata": {
    "hideCode": true,
    "hidePrompt": true,
    "slideshow": {
     "slide_type": "slide"
    }
   },
   "source": [
    "# Data Scenario\n",
    "Findings:\n",
    "* Again only small differences\n",
    "* 80% is, intuitively, better than 100% data scenario\n",
    "* 80% may be better because hyperparameter search was conducted in this scenario\n",
    "* 60%, as expected, is worse than 80% and 100%"
   ]
  },
  {
   "cell_type": "code",
   "execution_count": 95,
   "id": "9902d945",
   "metadata": {
    "hideCode": true,
    "hidePrompt": true,
    "slideshow": {
     "slide_type": "skip"
    },
    "ExecuteTime": {
     "end_time": "2023-11-30T10:36:27.310489471Z",
     "start_time": "2023-11-30T10:36:27.294038625Z"
    }
   },
   "source": [
    "def avg_bar_data_scenario(performance, axis = None, agg = \"mean\", plot=\"bar\", color=\"tab:blue\", order = None):\n",
    "    vs_transductive = performance.drop([\"inductive\"], level=\"adaption_mode\").loc[(slice(None), \"cnn\"), (slice(None), \"cmapss\")]\n",
    "    vs_transductive = vs_transductive.drop(\"NoAdaptionApproach\", level=\"approach\")\n",
    "    \n",
    "    if agg == \"mean\":\n",
    "        avg_vs_transductive = vs_transductive.groupby(level=\"adaption_mode\").mean().mean(axis=1)\n",
    "    else:\n",
    "        avg_vs_transductive = vs_transductive.groupby(level=\"approach\").rank().groupby(level=\"adaption_mode\").mean().mean(axis=1)\n",
    "    \n",
    "    if order is not None:\n",
    "        avg_vs_transductive = avg_vs_transductive.loc[order]\n",
    "    \n",
    "    if axis is None:\n",
    "        fig, axis = plt.subplots(figsize=(16, 2))\n",
    "    \n",
    "    if plot == \"bar\":\n",
    "        rects = axis.bar(avg_vs_transductive.index, avg_vs_transductive)\n",
    "        axis.bar_label(rects, padding=3)\n",
    "    else:\n",
    "        axis.plot(avg_vs_transductive.index, avg_vs_transductive, marker=\"o\", color=color)\n",
    "    \n",
    "    return axis"
   ],
   "outputs": []
  },
  {
   "cell_type": "code",
   "execution_count": 96,
   "id": "65041e12",
   "metadata": {
    "hideCode": true,
    "hidePrompt": true,
    "slideshow": {
     "slide_type": "fragment"
    },
    "ExecuteTime": {
     "end_time": "2023-11-30T10:36:28.017922055Z",
     "start_time": "2023-11-30T10:36:27.316169719Z"
    }
   },
   "source": [
    "_, (rmse_axis, score_axis, log_score_axis) = plt.subplots(figsize=(16, 9), ncols=1, nrows=3, sharex=\"all\")\n",
    "order = [\"complete\", \"transductive\", \"60percent\"]\n",
    "axis = avg_bar_data_scenario(rounded, rmse_axis, order=order)\n",
    "axis.set_ylim(0, 43)\n",
    "_ = axis.set_title(\"Avg RMSE\")\n",
    "\n",
    "axis = avg_bar_data_scenario(score, score_axis, order=order)\n",
    "axis.set_yscale(\"log\")\n",
    "axis.set_ylim(0.1, 1e22)\n",
    "_  = axis.set_title(\"Avg Score\")\n",
    "\n",
    "axis = avg_bar_data_scenario(np.log(score), log_score_axis, order=order)\n",
    "axis.set_ylim(0, 14)\n",
    "_  = axis.set_title(\"Avg Log Score\")"
   ],
   "outputs": []
  },
  {
   "cell_type": "code",
   "execution_count": 97,
   "id": "bd66f463",
   "metadata": {
    "hideCode": true,
    "hidePrompt": true,
    "slideshow": {
     "slide_type": "subslide"
    },
    "ExecuteTime": {
     "end_time": "2023-11-30T10:36:28.173366303Z",
     "start_time": "2023-11-30T10:36:27.855051938Z"
    }
   },
   "source": [
    "_, (rmse_axis, score_axis) = plt.subplots(figsize=(16, 9), ncols=1, nrows=2, sharex=\"all\")\n",
    "axis = avg_bar_data_scenario(rounded, rmse_axis, agg=\"rank\", order=order)\n",
    "axis.set_ylim(0, 2.5)\n",
    "_ = axis.set_title(\"RMSE Rank\")\n",
    "\n",
    "axis = avg_bar_data_scenario(score, score_axis, agg=\"rank\", order=order)\n",
    "axis.set_ylim(0, 2.5)\n",
    "_  = axis.set_title(\"Score Rank\")"
   ],
   "outputs": []
  },
  {
   "cell_type": "code",
   "execution_count": 98,
   "id": "d6f18ffd",
   "metadata": {
    "hideCode": true,
    "hidePrompt": true,
    "slideshow": {
     "slide_type": "subslide"
    },
    "ExecuteTime": {
     "end_time": "2023-11-30T10:36:28.854117660Z",
     "start_time": "2023-11-30T10:36:28.180522918Z"
    }
   },
   "source": [
    "_, (axis, rank_axis) = plt.subplots(figsize=(16, 9), nrows=2, sharex=\"all\")\n",
    "\n",
    "avg_bar_data_scenario(rounded, axis, plot=\"line\", order=order)\n",
    "axis.set_ylabel(\"RMSE\", color=\"tab:blue\")\n",
    "twin_axis = axis.twinx()\n",
    "avg_bar_data_scenario(np.log(score), twin_axis, plot=\"line\", color=\"tab:orange\", order=order)\n",
    "twin_axis.set_ylabel(\"Score\", color=\"tab:orange\")\n",
    "_ = twin_axis.set_ylim(10, 12)\n",
    "\n",
    "avg_bar_data_scenario(rounded, rank_axis, agg=\"rank\", plot=\"line\", order=order)\n",
    "rank_axis.set_ylabel(\"RMSE Rank\", color=\"tab:blue\")\n",
    "rank_axis.set_ylim(1.7, 2.2)\n",
    "twin_axis = rank_axis.twinx()\n",
    "avg_bar_data_scenario(np.log(score), twin_axis, agg=\"rank\", plot=\"line\", color=\"tab:orange\", order=order)\n",
    "twin_axis.set_ylabel(\"Score Rank\", color=\"tab:orange\")\n",
    "_ = twin_axis.set_ylim(1.7, 2.2)"
   ],
   "outputs": []
  },
  {
   "cell_type": "markdown",
   "id": "91610d5d",
   "metadata": {
    "hideCode": true,
    "hidePrompt": true,
    "slideshow": {
     "slide_type": "slide"
    }
   },
   "source": [
    "# RMSE Radar Plot\n",
    "Findings:\n",
    "* Approaches perform reliably on C-CMAPSS\n",
    "* Inconsistent performance on FEMTO and XJTU-SY\n",
    "* Baseline often outperforms UDA approaches on bearing datasets\n",
    "* C-MAPSS may have become too easy for UDA\n",
    "* Previous work may not have shown low performance on bearing datasets because they did not run all adaptation tasks"
   ]
  },
  {
   "cell_type": "code",
   "execution_count": 99,
   "id": "2fa49513",
   "metadata": {
    "hideCode": true,
    "hidePrompt": true,
    "ExecuteTime": {
     "end_time": "2023-11-30T10:36:28.872027229Z",
     "start_time": "2023-11-30T10:36:28.869842395Z"
    }
   },
   "source": [
    "def radar(rmse, add_legend=True):\n",
    "    theta12 = radar_factory(12, frame=\"polygon\", tname=\"radar_12\")\n",
    "    theta6 = radar_factory(6, frame=\"polygon\", tname=\"radar_6\")\n",
    "    fig = plt.figure(figsize=(16, 9))\n",
    "    axes = [fig.add_subplot(1, 3, i, projection=f'radar_{n}') for i, n in enumerate([12, 6, 6], start=1)]\n",
    "    colors = list(matplotlib.colors.TABLEAU_COLORS)[:9][::-1]\n",
    "\n",
    "    for dataset, axis, theta in zip([\"cmapss\", \"femto\", \"xjtu-sy\"], axes, [theta12, theta6, theta6]):\n",
    "        legend = []\n",
    "        filtered = rmse.loc[:, (slice(None), dataset)].droplevel([0, 1], axis=1)\n",
    "        axis.set_varlabels([\"→\".join(c) for c in filtered.columns])\n",
    "        axis.set_title(dataset_names[dataset])\n",
    "        max_rmse = filtered.values.max()\n",
    "        for idx, (color, (approach, data)) in enumerate(zip(colors, filtered.sort_index().iterrows())):\n",
    "            if approach == \"NoAdaptionApproach\":\n",
    "                outer_border = np.vstack([theta, np.repeat(max_rmse + 1000, len(data))]).T\n",
    "                inner_border = np.vstack([theta, data.values]).T\n",
    "                codes = np.ones(len(data), dtype=matplotlib.path.Path.code_type) * matplotlib.path.Path.LINETO\n",
    "                codes[0] = matplotlib.path.Path.MOVETO\n",
    "                vertices = np.concatenate([outer_border, inner_border[::-1]])\n",
    "                path = matplotlib.path.Path(vertices, np.tile(codes, 2))\n",
    "                patch = matplotlib.patches.PathPatch(path, facecolor=\"grey\", alpha=0.4, zorder=4)\n",
    "                axis.add_patch(patch)\n",
    "                axis.plot(\n",
    "                    theta, data, color=\"black\", alpha=0.4, linestyle=\"--\", linewidth=1.5, zorder=5, label=approach_names[approach]\n",
    "                )\n",
    "            else:\n",
    "                axis.plot(theta, data, color=color, linewidth=1.5, label=approach_names[approach])\n",
    "        axis.set_ylim(0, max_rmse * 1.1)\n",
    "    if add_legend:\n",
    "        artist = axes[1].legend(fontsize=\"small\", loc=(0.75, 0.91), ncols=2)\n",
    "        artist.set_in_layout(False)\n",
    "    \n",
    "    return fig, axes"
   ],
   "outputs": []
  },
  {
   "cell_type": "code",
   "execution_count": 100,
   "id": "2bf4c26c",
   "metadata": {
    "hideCode": true,
    "hidePrompt": true,
    "ExecuteTime": {
     "end_time": "2023-11-30T10:36:31.164636394Z",
     "start_time": "2023-11-30T10:36:28.875368690Z"
    }
   },
   "source": [
    "fig, axes = radar(rmse.loc[(\"transductive\", \"cnn\")])\n",
    "_ = axes[0].set_ylim(0, 70)\n",
    "_ = axes[1].set_ylim(0, 0.5)\n",
    "_ = axes[2].set_ylim(0, 0.5)\n",
    "fig.tight_layout()\n",
    "fig.savefig(\"plots/rmse_radar.pdf\", bbox_inches=\"tight\")"
   ],
   "outputs": []
  },
  {
   "cell_type": "markdown",
   "id": "6da73b6e",
   "metadata": {
    "hideCode": true,
    "hidePrompt": true,
    "slideshow": {
     "slide_type": "subslide"
    }
   },
   "source": [
    "# Score Radar Plot"
   ]
  },
  {
   "cell_type": "code",
   "execution_count": 101,
   "id": "bc8ec0b9",
   "metadata": {
    "hideCode": true,
    "hidePrompt": true,
    "slideshow": {
     "slide_type": "fragment"
    },
    "ExecuteTime": {
     "end_time": "2023-11-30T10:36:32.805777989Z",
     "start_time": "2023-11-30T10:36:31.219217967Z"
    }
   },
   "source": [
    "fig, axes = radar(score_adjusted.loc[(\"transductive\", \"cnn\")], add_legend=False)\n",
    "axes[0].set_yscale(\"log\")\n",
    "_ = axes[0].set_ylim(0.1, 1e12)\n",
    "fig: plt.Figure\n",
    "fig.tight_layout()\n",
    "fig.savefig(\"plots/score_radar.pdf\", bbox_inches=\"tight\")"
   ],
   "outputs": []
  },
  {
   "cell_type": "markdown",
   "id": "a5e1e008",
   "metadata": {
    "hideCode": true,
    "hidePrompt": true,
    "slideshow": {
     "slide_type": "slide"
    }
   },
   "source": [
    "# Ranks RMSE Radar Plot"
   ]
  },
  {
   "cell_type": "code",
   "execution_count": 102,
   "id": "4f74da3a",
   "metadata": {
    "hideCode": true,
    "hidePrompt": true,
    "slideshow": {
     "slide_type": "fragment"
    },
    "ExecuteTime": {
     "end_time": "2023-11-30T10:36:33.733905322Z",
     "start_time": "2023-11-30T10:36:32.820875219Z"
    }
   },
   "source": [
    "axes = radar(rounded.loc[(\"transductive\", \"cnn\")].rank())"
   ],
   "outputs": []
  },
  {
   "cell_type": "markdown",
   "id": "9b92b699",
   "metadata": {
    "hideCode": true,
    "hidePrompt": true,
    "slideshow": {
     "slide_type": "subslide"
    }
   },
   "source": [
    "# Ranks Score Radar Plot"
   ]
  },
  {
   "cell_type": "code",
   "execution_count": 103,
   "id": "598a3988",
   "metadata": {
    "hideCode": true,
    "hidePrompt": true,
    "slideshow": {
     "slide_type": "fragment"
    },
    "ExecuteTime": {
     "end_time": "2023-11-30T10:36:34.928995173Z",
     "start_time": "2023-11-30T10:36:33.762866455Z"
    }
   },
   "source": [
    "axes = radar(score_adjusted.loc[(\"transductive\", \"cnn\")].rank())"
   ],
   "outputs": []
  },
  {
   "cell_type": "markdown",
   "id": "36fedad3",
   "metadata": {
    "hideCode": true,
    "hidePrompt": true,
    "slideshow": {
     "slide_type": "slide"
    }
   },
   "source": [
    "# Average Ranks with Significance"
   ]
  },
  {
   "cell_type": "code",
   "execution_count": 104,
   "source": [
    "def cd_plot(rmse):\n",
    "    fig, axes = plt.subplots(figsize=(16, 2.5), ncols=3, nrows=1)\n",
    "    for i, dataset in enumerate([\"cmapss\", \"femto\", \"xjtu-sy\"]):\n",
    "        axis = axes[i]\n",
    "        axis.set_title(dataset_names[dataset])\n",
    "        plt.sca(axis)\n",
    "        filtered = rmse.loc[:, (slice(None), dataset)].droplevel([0, 1], axis=1)\n",
    "        filtered.columns = filtered.columns.map(lambda x: \"-\".join(x))\n",
    "        filtered.index = filtered.index.map(approach_names.get)\n",
    "        avg_ranks, significances = friedman_nemenyi(filtered)\n",
    "        plot_critical_difference(\n",
    "            avg_ranks, \n",
    "            significances if significances is not None else np.ones((9, 9)), \n",
    "            fig=fig,\n",
    "            highlight=\"No Adaptation\"\n",
    "        )\n",
    "    \n",
    "    return fig"
   ],
   "metadata": {
    "collapsed": false,
    "ExecuteTime": {
     "end_time": "2023-11-30T10:36:34.929462074Z",
     "start_time": "2023-11-30T10:36:34.925998493Z"
    }
   },
   "id": "6f2448bc",
   "outputs": []
  },
  {
   "cell_type": "code",
   "execution_count": 105,
   "id": "a1d704a5",
   "metadata": {
    "hideCode": true,
    "hidePrompt": true,
    "slideshow": {
     "slide_type": "fragment"
    },
    "ExecuteTime": {
     "end_time": "2023-11-30T10:36:37.237803515Z",
     "start_time": "2023-11-30T10:36:34.978409377Z"
    }
   },
   "source": [
    "fig = cd_plot(rounded.loc[(\"transductive\", \"cnn\")])\n",
    "fig.tight_layout()\n",
    "fig.savefig(\"plots/rmse_cd.pdf\")"
   ],
   "outputs": []
  },
  {
   "cell_type": "code",
   "execution_count": 106,
   "id": "f8ab6904",
   "metadata": {
    "hideCode": true,
    "hidePrompt": true,
    "slideshow": {
     "slide_type": "fragment"
    },
    "ExecuteTime": {
     "end_time": "2023-11-30T10:36:39.520995843Z",
     "start_time": "2023-11-30T10:36:37.260398014Z"
    }
   },
   "source": [
    "fig = cd_plot(score_adjusted.loc[(\"transductive\", \"cnn\")])\n",
    "fig.tight_layout()\n",
    "fig.savefig(\"plots/score_cd.pdf\")"
   ],
   "outputs": []
  },
  {
   "cell_type": "markdown",
   "id": "9897a315",
   "metadata": {
    "hideCode": true,
    "hidePrompt": true,
    "slideshow": {
     "slide_type": "slide"
    }
   },
   "source": [
    "# Overall Ranking\n",
    "Findings:\n",
    "* Pseudo Labels only approach with significant performance difference in RMSE\n",
    "* No approach shows significant difference in score\n",
    "* AdaRUL ranks under baseline for both\n",
    "* Consistency and MMD rank above baseline for score"
   ]
  },
  {
   "cell_type": "code",
   "execution_count": 107,
   "id": "16044b36",
   "metadata": {
    "hideCode": true,
    "hidePrompt": true,
    "slideshow": {
     "slide_type": "fragment"
    },
    "ExecuteTime": {
     "end_time": "2023-11-30T10:36:41.173553427Z",
     "start_time": "2023-11-30T10:36:39.528164455Z"
    }
   },
   "source": [
    "filtered = rounded.loc[(\"transductive\", \"cnn\", slice(None))]\n",
    "filtered.columns = filtered.columns.map(lambda x: \"-\".join(x))\n",
    "filtered.index = filtered.index.map(approach_names.get)\n",
    "avg_ranks, significances = friedman_nemenyi(filtered)\n",
    "fig, (rmse_axis, score_axis) = plt.subplots(figsize=(16, 2), ncols=2, nrows=1)\n",
    "plt.sca(rmse_axis)\n",
    "_ = plot_critical_difference(\n",
    "    avg_ranks, \n",
    "    significances,\n",
    "    highlight=\"No Adaptation\",\n",
    "    fig=fig,\n",
    ")\n",
    "rmse_axis.set_title(\"RMSE\")\n",
    "\n",
    "filtered = score_adjusted.loc[(\"transductive\", \"cnn\", slice(None))]\n",
    "filtered.columns = filtered.columns.map(lambda x: \"-\".join(x))\n",
    "filtered.index = filtered.index.map(approach_names.get)\n",
    "avg_ranks, significances = friedman_nemenyi(filtered)\n",
    "plt.sca(score_axis)\n",
    "_ = plot_critical_difference(\n",
    "    avg_ranks, \n",
    "    significances,\n",
    "    highlight=\"No Adaptation\",\n",
    "    fig=fig,\n",
    ")\n",
    "score_axis.set_title(\"RUL Score\")\n",
    "\n",
    "fig.tight_layout()\n",
    "fig.savefig(\"plots/overall_cd.pdf\")"
   ],
   "outputs": []
  },
  {
   "cell_type": "markdown",
   "source": [
    "# Validation/Test Metric Correlation\n",
    "Findings:\n",
    "* Metrics correlate well for C-MAPSS\n",
    "* Low correlation for bearing datasets\n",
    "* Differences between bearing entities may be larger than domain gap"
   ],
   "metadata": {
    "collapsed": false
   },
   "id": "2edb98e4d70601f2"
  },
  {
   "cell_type": "code",
   "execution_count": 108,
   "source": [
    "runs = pd.read_csv(\"results/runs.csv\", index_col=0)"
   ],
   "metadata": {
    "collapsed": false,
    "ExecuteTime": {
     "end_time": "2023-11-30T10:36:41.173812244Z",
     "start_time": "2023-11-30T10:36:41.133694043Z"
    }
   },
   "id": "5d4ea75eb701ed8",
   "outputs": []
  },
  {
   "cell_type": "code",
   "execution_count": 109,
   "source": [
    "correlations = runs.loc[:, (\"dataset\", \"validation\", \"test/target/rmse/dataloader_idx_1\")].groupby(\"dataset\").corr(\"spearman\").loc[(slice(None), \"test/target/rmse/dataloader_idx_1\"), \"validation\"]"
   ],
   "metadata": {
    "collapsed": false,
    "ExecuteTime": {
     "end_time": "2023-11-30T10:36:41.173908349Z",
     "start_time": "2023-11-30T10:36:41.133933775Z"
    }
   },
   "id": "61c82dc1fe26be09",
   "outputs": []
  },
  {
   "cell_type": "code",
   "execution_count": 110,
   "source": [
    "plt.rc('font', **{'size': 12})\n",
    "\n",
    "fig, axes = plt.subplots(figsize=(9, 3), ncols=3)\n",
    "for dataset, axis in zip([\"cmapss\", \"femto\", \"xjtu-sy\"], axes):\n",
    "    validation = runs.loc[runs[\"dataset\"] == dataset, \"validation\"]\n",
    "    test = runs.loc[runs[\"dataset\"] == dataset, \"test/target/rmse/dataloader_idx_1\"]\n",
    "    axis.scatter(validation, test, s=5)\n",
    "    axis.set_title(f\"{dataset_names[dataset]} (ϱ = {correlations[dataset].item():.2f})\")\n",
    "    # axis.set_xticks([])\n",
    "    # axis.set_yticks([])\n",
    "axes[1].set_xlabel(\"Validation RMSE\")\n",
    "axes[0].set_ylabel(\"Test RMSE\")\n",
    "fig.tight_layout()\n",
    "fig.savefig(\"plots/correlation.pdf\", bbox_inches=\"tight\")\n",
    "plt.rcdefaults()"
   ],
   "metadata": {
    "collapsed": false,
    "ExecuteTime": {
     "end_time": "2023-11-30T10:36:41.886131632Z",
     "start_time": "2023-11-30T10:36:41.144299557Z"
    }
   },
   "id": "6f303e04fe0528b1",
   "outputs": []
  }
 ],
 "metadata": {
  "celltoolbar": "Slideshow",
  "hide_code_all_hidden": true,
  "kernelspec": {
   "display_name": "Python 3 (ipykernel)",
   "language": "python",
   "name": "python3"
  },
  "language_info": {
   "codemirror_mode": {
    "name": "ipython",
    "version": 3
   },
   "file_extension": ".py",
   "mimetype": "text/x-python",
   "name": "python",
   "nbconvert_exporter": "python",
   "pygments_lexer": "ipython3",
   "version": "3.8.15"
  }
 },
 "nbformat": 4,
 "nbformat_minor": 5
}
